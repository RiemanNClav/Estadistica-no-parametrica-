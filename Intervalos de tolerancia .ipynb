{
 "cells": [
  {
   "cell_type": "markdown",
   "metadata": {},
   "source": [
    "# Motivacion"
   ]
  },
  {
   "cell_type": "markdown",
   "metadata": {},
   "source": [
    " Un intervalo de tolerancia cubre al menos una proporción determinada $ρ$ de la población con un grado de confianza determinado: $100(1-α)$%. con $0≤α,ρ≤1$. \n",
    " \n",
    " Este intervalo de tolerancia se puede denotar como  : $\\frac{100(1-α)\\%}{100ρ\\%}$.\n",
    " * al menos $\\rho \\%$ de la población es cubierta por el intervalo de tolerancia con una probabilidad de 1-$\\alpha$."
   ]
  },
  {
   "cell_type": "code",
   "execution_count": 1,
   "metadata": {},
   "outputs": [],
   "source": [
    "from  IPython.display import Image "
   ]
  },
  {
   "cell_type": "code",
   "execution_count": 4,
   "metadata": {},
   "outputs": [
    {
     "data": {
      "image/png": "[encoded data removed]",
      "text/plain": [
       "<IPython.core.display.Image object>"
      ]
     },
     "execution_count": 4,
     "metadata": {},
     "output_type": "execute_result"
    }
   ],
   "source": [
    "Image(filename = \"C:/Users/URIEL/Pictures/Tolerance Interval.png\")"
   ]
  },
  {
   "cell_type": "markdown",
   "metadata": {},
   "source": [
    " Intervalo de Confianza \n",
    " * La probabilidad de que el intervalo ($\\theta_{1}$,$\\theta_{2}$) contenga el valor de $\\theta$ es 1-$\\alpha$. \n",
    " \n",
    " \n",
    " * $P(\\theta_{1}<\\theta<\\theta_{2}) = 1 - \\alpha$ siendo $\\theta_{1}$ y $\\theta_{2}$ estadisticos de la muestra aleatoria y $0\\leq \\alpha \\leq 1$.\n",
    "\n",
    " \n",
    " \n",
    " Intervalo de Tolerancia\n",
    " * La probabilidad de que al menos un $\\rho$ % de la población se encuentren dentro de cierto intervalo es 1-$\\alpha$.\n",
    " \n",
    " \n",
    " * $ P(P(L<X<U)\\geq \\rho) \\geq 1-\\alpha$ llamado intervalo de tolerancia bilateral. \n",
    " \n",
    " * $ P(P(L<X)\\geq \\rho) \\geq 1-\\alpha$ llamado intervalo de tolerancia superior unilateral.\n",
    " \n",
    " * $ P(P(X<U)\\geq \\rho) \\geq 1-\\alpha$ llamado intervalo de tolerancia unilateral inferior. \n",
    " \n",
    " \n",
    " \n",
    "  siendo ($L,U$) un intervalo aleatorio con $L$ y $U$ estadisticos de la muestra aleatoria y $0\\leq \\alpha,\\rho \\leq 1$."
   ]
  },
  {
   "cell_type": "markdown",
   "metadata": {},
   "source": [
    "Se han propuesto diferentes metodos para el calculo de intervalos de tolerancia que centran sus estudios en estimar los límites de\n",
    "tolerancia de variables aleatorias cuya función de probabilidad se desconoce a partir de la\n",
    "metodología de estadísticos ordenados de muestras aleatorias. \n",
    "\n",
    "Uno de ellos es el Metodo de Wilks, metodo no paramétrico, no obstante existen otras aproximaciones  tanto paramétricas\n",
    "como no paramétricas que permiten estimar un intervalo de tolerancia."
   ]
  },
  {
   "cell_type": "markdown",
   "metadata": {},
   "source": [
    "## Metodo de Wilks \n",
    "\n",
    "En el método de Wilks, sea w el límite superior de tolerancia, entonces\n",
    "$$𝑃(−\\infty ≤ 𝑋_{i} ≤ 𝑤) ≥ \\rho$$.\n",
    "\n",
    "la estimación de $w$ puede escribirse como $ŵ = ŵ(X)$. Sobre todas las posibles muestras se\n",
    "puede requerir que \n",
    "\n",
    "$$𝑃((−\\infty ≤ 𝑋_{i} ≤ ŵ) ≥ \\rho)≥1-\\alpha$$\n",
    "La expresión anterior define un intervalo de tolerancia .\n",
    "\n",
    "La interpretación de la ecuación\n",
    "anterior es que al menos $100\\rho$ % de la población es cubierta por el intervalo de tolerancia con\n",
    "una probabilidad 1-$\\alpha$%.\n",
    "\n",
    "El límite superior w del intervalo de tolerancia dado por la Ecuación anterior se interpreta como\n",
    "un límite de tolerancia conservador, es decir, el límite indica el valor extremo que cubre al\n",
    "menos $\\rho$% de la población con una confianza de 1-$\\alpha$%."
   ]
  },
  {
   "cell_type": "markdown",
   "metadata": {},
   "source": [
    "## Aplicación del intervalo de tolerancia en el control estadístico de calidad. "
   ]
  },
  {
   "cell_type": "markdown",
   "metadata": {},
   "source": [
    "Ejemplo\n",
    "\n",
    "un ingeniero de calidad de un fabricante de bombillas necesita evaluar la vida útil de las bombillas. El ingeniero recoge aleatoriamente una muestra de 100 bombillas e informa de los tiempos hasta el fallo. El ingeniero quiere calcular un límite inferior de tolerancia del 95%/99%, que es el tiempo de combustión que supera al menos el 99% de las bombillas con un 95% de confianza. Supongamos que el límite inferior de tolerancia basado en una distribución normal es 1085,947, por lo que el ingeniero puede afirmar que al menos el 99% de todas las bombillas superan aproximadamente 1086 horas de tiempo de combustión con un 95% de confianza. Los intervalos de tolerancia serían de especial interés para establecer los límites de la capacidad del proceso para un producto fabricado en grandes cantidades. \n",
    "\n"
   ]
  },
  {
   "cell_type": "markdown",
   "metadata": {},
   "source": [
    "## Ejemplo Practico de Intervalo de Tolerancia Bilateral"
   ]
  },
  {
   "cell_type": "markdown",
   "metadata": {},
   "source": [
    "Se desea el intervalo de tolerancia bilateral para el peso (gr) de una pieza metálica. Se tomó una muestra aleatoria de 40 ítems con un promedio de 420.3 y desviación estandar 1.15. Se desea abarcar el 99% del peso poblacional con una confianza del 95%. "
   ]
  },
  {
   "cell_type": "markdown",
   "metadata": {},
   "source": [
    " Para una distribución normal el intervalo de tolerancia tiene la forma $(k(s)-\\bar{x},\\bar{x}+k(s))$ con $s$ siendo la desviación estandar."
   ]
  },
  {
   "cell_type": "code",
   "execution_count": 65,
   "metadata": {},
   "outputs": [
    {
     "data": {
      "image/jpeg": "[encoded data removed]",
      "text/plain": [
       "<IPython.core.display.Image object>"
      ]
     },
     "execution_count": 65,
     "metadata": {},
     "output_type": "execute_result"
    }
   ],
   "source": [
    "Image(filename = \"C:/Users/URIEL/Pictures/Formulas.jpeg\")"
   ]
  },
  {
   "cell_type": "code",
   "execution_count": 62,
   "metadata": {},
   "outputs": [],
   "source": [
    "#se tiene \n",
    "p = 0.99\n",
    "alpha = 0.05\n",
    "n = 40 \n",
    "promedio = 420.3\n",
    "desv_est = 1.15"
   ]
  },
  {
   "cell_type": "code",
   "execution_count": 25,
   "metadata": {},
   "outputs": [],
   "source": [
    "from scipy import stats\n",
    "import numpy as np\n",
    "from scipy.stats import norm\n",
    "def Cuantil_Distribucion_Continua(distribucion,p):\n",
    "    import numpy as np \n",
    "    x_1 = np.linspace(distribucion.ppf(0.01),\n",
    "                  distribucion.ppf(0.99), 100)\n",
    "    fda_normal = distribucion.cdf(x_1) # Función de Distribución Acumulada\n",
    "    \n",
    "    for i in range(len(fda_normal)):\n",
    "        if fda_normal[i] == p or fda_normal[i]>p:\n",
    "            x_p = x_1[i]\n",
    "        else:\n",
    "            continue\n",
    "        \n",
    "    return x_p"
   ]
  },
  {
   "cell_type": "code",
   "execution_count": 31,
   "metadata": {},
   "outputs": [
    {
     "data": {
      "text/plain": [
       "2.3263478740408408"
      ]
     },
     "execution_count": 31,
     "metadata": {},
     "output_type": "execute_result"
    }
   ],
   "source": [
    "Cuantil_Distribucion_Continua(stats.norm(0,1),0.99)"
   ]
  },
  {
   "cell_type": "code",
   "execution_count": 26,
   "metadata": {},
   "outputs": [],
   "source": [
    "u = Cuantil_Distribucion_Continua(stats.norm(0,1),0.99) * np.sqrt(1+(1/n))"
   ]
  },
  {
   "cell_type": "code",
   "execution_count": 27,
   "metadata": {},
   "outputs": [
    {
     "data": {
      "text/plain": [
       "2.3552477134753143"
      ]
     },
     "execution_count": 27,
     "metadata": {},
     "output_type": "execute_result"
    }
   ],
   "source": [
    "u"
   ]
  },
  {
   "cell_type": "code",
   "execution_count": 39,
   "metadata": {},
   "outputs": [
    {
     "data": {
      "text/plain": [
       "31.71406050809245"
      ]
     },
     "execution_count": 39,
     "metadata": {},
     "output_type": "execute_result"
    }
   ],
   "source": [
    "Cuantil_Distribucion_Continua(stats.gamma((n-1)/2,1/2),alpha)"
   ]
  },
  {
   "cell_type": "code",
   "execution_count": 43,
   "metadata": {},
   "outputs": [],
   "source": [
    "v = np.sqrt((n-1)/Cuantil_Distribucion_Continua(stats.gamma((n-1)/2,1/2),alpha))"
   ]
  },
  {
   "cell_type": "code",
   "execution_count": 44,
   "metadata": {},
   "outputs": [
    {
     "data": {
      "text/plain": [
       "1.1089357340354902"
      ]
     },
     "execution_count": 44,
     "metadata": {},
     "output_type": "execute_result"
    }
   ],
   "source": [
    "v"
   ]
  },
  {
   "cell_type": "code",
   "execution_count": 50,
   "metadata": {},
   "outputs": [],
   "source": [
    "gamma = Cuantil_Distribucion_Continua(stats.gamma((n-1)/2,1/2),alpha)"
   ]
  },
  {
   "cell_type": "code",
   "execution_count": 52,
   "metadata": {},
   "outputs": [
    {
     "data": {
      "text/plain": [
       "108.36175958410475"
      ]
     },
     "execution_count": 52,
     "metadata": {},
     "output_type": "execute_result"
    }
   ],
   "source": [
    "(n-3-(gamma))/2*(n+1)"
   ]
  },
  {
   "cell_type": "code",
   "execution_count": 55,
   "metadata": {},
   "outputs": [],
   "source": [
    "w = np.sqrt(1+(n-3-(gamma))/2*(n+1))"
   ]
  },
  {
   "cell_type": "code",
   "execution_count": 56,
   "metadata": {},
   "outputs": [],
   "source": [
    "k = u*v*w"
   ]
  },
  {
   "cell_type": "code",
   "execution_count": 63,
   "metadata": {},
   "outputs": [
    {
     "data": {
      "text/plain": [
       "(388.8895937018948, 451.7104062981052)"
      ]
     },
     "execution_count": 63,
     "metadata": {},
     "output_type": "execute_result"
    }
   ],
   "source": [
    "promedio-k*(desv_est), promedio+k*(desv_est) #siendo este el intervalo de tolerancia"
   ]
  },
  {
   "cell_type": "markdown",
   "metadata": {},
   "source": [
    "## Interpretacion \n",
    "\n",
    "Con un 95% de confianza se estima que el 99% del peso de los ítems está entre (388.8895937018948, 451.7104062981052)."
   ]
  }
 ],
 "metadata": {
  "kernelspec": {
   "display_name": "Python 3",
   "language": "python",
   "name": "python3"
  },
  "language_info": {
   "codemirror_mode": {
    "name": "ipython",
    "version": 3
   },
   "file_extension": ".py",
   "mimetype": "text/x-python",
   "name": "python",
   "nbconvert_exporter": "python",
   "pygments_lexer": "ipython3",
   "version": "3.8.3"
  }
 },
 "nbformat": 4,
 "nbformat_minor": 4
}
