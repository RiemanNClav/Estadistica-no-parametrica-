{
 "cells": [
  {
   "cell_type": "markdown",
   "metadata": {},
   "source": [
    "# Angel Uriel Chavez Clavellina "
   ]
  },
  {
   "cell_type": "markdown",
   "metadata": {},
   "source": [
    "# Ejercicio 1"
   ]
  },
  {
   "cell_type": "markdown",
   "metadata": {},
   "source": [
    "# Investiga el coeficiente de correlación de Kendall y realiza un ensayo de una cuartilla sobre el. "
   ]
  },
  {
   "cell_type": "markdown",
   "metadata": {},
   "source": [
    "Antes de definir que es el coeficiente de correlación de Kendall, me gustaria empezar este ensayo con el significado de lo que es la correlación lineal. \n",
    "\n",
    "En terminos generales podemos decir que la correlación lineal es un metodo estadístico que nos puede decir que tan \"relacionadas\" pueden estar dos variables cuantitativas continuas,lo que hace es determinar si ambas variables \"varian\" conjuntamente (co-variar conjuntamente). Este calculo realmente no depende del orden de asignación, no considera dependencias, simplemente calcula la posible relacion lineal.Cabe destacar que puede existir una relación entre dos variables de manera inesperada y por simple causalidad, este ultimo punto puede estar justificado en el hecho de que la correlación lineal se suele emplear cuando ninguna de las dos variables se ha controlado, simplemente se miden y se desea saber si estan relacionadas. \n",
    "\n",
    "Por lo general los estudios de correlación preceden a la generación de modelos de regresión lineal, previo a generar un modelo predictivo, se mide si realmente conviene generarlo, esta desición se toma simplemente investigando la posible relación lineal entre ambas variables. \n",
    "\n",
    "Como todo cálculo matemático, se necesita \"algo\" con lo cual general esta relación, parametros que nos ayuden a cuantificarla, uno de estos parámetros es sin duda la covarianza, que indica el grado de variación conjunta de dos variables. ¿Que pasa cuando medimos la relación entre dos variables que toman valores en rangos distintos?, por ejemplo si X toma valores entre 0 y 1 e Y toma valores entre 100 y 1000, ¿Se podrá obtener un valor de covarianza significante?, la respuesta es no, ya que no es comparable entre distintos pares de variables, si depende de que ambas variables corran en el mismo rango de valores. \n",
    "\n",
    "* Covarianza muestral  $$Cov(X,Y)=\\frac{\\sum_{i=i}^{n}(x_{i}-\\bar{x})(y_{i}-\\bar{y})}{N-1}$$\n",
    "\n",
    "¿Si se quisiera obtener la relación entre dos variables que corren en rangos distintos?, la respuesta esta en estandarizar la covarianza, generando lo que se conoce como el coeficiente de correlación, existen distintos tipos, tales como: coeficiente de Pearson, Rho de Spearman y Tau de Kendall.\n",
    "\n",
    "Todos ellos varían entre +1 y -1. Siendo +1 una correlación positiva perfecta y -1 una correlación negativa perfecta.\n",
    "\n",
    "Se emplean como medida de fuerza de asociación (tamaño del efecto):\n",
    "\n",
    "* 0: asociación nula.\n",
    "* 0.1: asociación pequeña.\n",
    "* 0.3: asociación mediana.\n",
    "* 0.5: asociación moderada.\n",
    "* 0.7: asociación alta.\n",
    "* 0.9: asociación muy alta.\n",
    "\n",
    "Para fines de este ensayo, solo nos vamos a centrar en especificar de que trata la correlación de Kendall. \n",
    "\n",
    "El coeficiente de correlación de Kendall es no paramétrico, es decir, se puede usar cuando se viola el\n",
    "supesto de distribución normal de las variables a comparar, es particularmente adecuada cuando tenemos un set de datos pequeño con muchos valores en el mismo rango o clase. Se puede usar por ejemplo con datos categóricos codificados binariamene (0,1).\n",
    "\n",
    "Este coeficiente es más preferido por algunos que el de Spearman, pero es más difícil de calcular, con la ventaja de que el $τ$ tiende más rápido a la distribución normal que el de Spearman. \n",
    "\n",
    "Es utilizado en las ciencias sociales porque es uno de los coeficientes encargados de hacer cálculos para poblaciones que no poseen una distribución normal en su  comportamiento. Como este indicador está basado en rangos y no en los datos originales, su estimación requiere que los valores de la variable ordinal sean transformados en rangos, este coeficiente se ve poco afectado ante la presencia de un número pequeño de valores atípicos (extremos) en la muestra estudiada.\n",
    "\n",
    "Dentro de este coeficiente, existen dos variantes denominadas: \n",
    "\n",
    "\n",
    "* Coeficiente de correlación parcial de Kendall, se utiliza para relaciones entre dos variables donde interviene un tercera en su explicación. Por ejemplo, las variables estatura y habilidad numérica tienen fuerte correlación, esto se debe a que están relacionada a una tercera variable, la edad. Los adolescentes tienen mayor habilidad numérica que los niños. \n",
    "\n",
    "* Coeficientes de concordancia de Kendall: En los dos casos anteriores, coeficiente de rango de Kendall y Coeficiente de correlación parcial de Kendall se trabaja con la relación entre 2 variables únicamente, a diferencia de este, que puede medir el nivel de concordancia entre k variables asociadas. \n",
    "\n",
    "$$\\tau  = \\frac{s}{\\frac{1}{2}N(n-1)}$$\n",
    "\n",
    "donde: \n",
    "* $\\tau$ = Es el coeficiente de correlación de kendall \n",
    "* $s$ = Es la puntuación afectiva de los rangos. \n",
    "* $N$ = Es el tamaño de la muestra en parejas variables. \n",
    "\n",
    "\n",
    "\tCondiciones para aplicación\n",
    "    \n",
    "* Solo se puede aplicar a partir de tablas cuadradas.\n",
    "* Las variables utilizadas deben ser de nivel ordinal, intervalo o razón  \n",
    "* Su resultado debe encontrarse en el rango de -1 a 1\n",
    "* Tiene sentido su aplicación, si las variables objeto de estudio no poseen una distribución poblacional conjunta normal; es decir, si se requiere determinar el grado de asociación lineal entre dos variables cuantitativas pero las mismas no siguen un comportamiento normal, será preferible estimar este indicador mediante el coeficiente de Kendall.\n",
    "\n",
    "\n",
    "\n",
    "Biblio\n",
    "* https://www.cienciadedatos.net/documentos/24_correlacion_y_regresion_lineal#Regresi%C3%B3n_lineal_simple\n",
    "* https://www.ccg.unam.mx/~vinuesa/R4biosciences/docs/Tema8_correlacion.pdf\n"
   ]
  },
  {
   "cell_type": "markdown",
   "metadata": {},
   "source": [
    "# Investiga el coeficiente de correlación de Spearman y realiza un ensayo de una cuartilla sobre el. "
   ]
  },
  {
   "cell_type": "markdown",
   "metadata": {},
   "source": [
    " El coeficiente de Spearman es el equivalente al coeficiente de Pearson pero con una previa transformación de los datos a rangos. Se emplea como alternativa cuando los valores son ordinales, o bien, cuando los valores son continuos pero no satisfacen la condición de normalidad requerida por el coeficiente de Pearson y se pueden ordenar transformándolos en rangos. \n",
    "\n",
    " Al trabajar con rangos, es menos sensible que Pearson a valores extremos. Existe una diferencia adicional con respecto a Pearson. El coeficiente de Spearman requiere que la relación entre las variables sea monótona, es decir, que cuando una variable crece la otra también lo hace o cuando una crece la otra decrece (que la tendencia sea constante). Este concepto no es exactamente el mismo que linealidad. \n",
    " \n",
    " Las ventajas que tiene este coeficiente de correlación radican en que los supuestos son menos estrictos, es robusto a la presencia de outliers \n",
    " \n",
    " $$rs  =1 -  \\frac{6\\sum d_{i}^2}{n(n^2-1)}$$\n",
    " \n",
    "siendo $d_i$ la distancia entre los rangos de cada observación ($x_i-y_i$) y n el numero de observaciones. \n",
    "\n",
    "Cosas que se deben de considerar:\n",
    "* Es el coeficiente mas empleado en los metodos de correlación por rangos. \n",
    "* Se recomienda usar este metodo, con datos entre 25 o 30 o menos. \n",
    "* Las variables son medidas en escalar ordinales. \n",
    "* Es mas facil y rapido de calcular que el Coeficiente de correlación de Pearson. \n",
    "\n",
    "http://saber.ucv.ve/bitstream/10872/18490/1/Otros%20Coeficientes%20Correlaci%C3%B3n_FHE_UCV.pdf\n",
    "https://www.scientific-european-federation-osteopaths.org/wp-content/uploads/2019/01/Coeficiente-de-correlaci%C3%B3n-de-Spearman-.pdf\n"
   ]
  },
  {
   "cell_type": "code",
   "execution_count": 3,
   "metadata": {},
   "outputs": [],
   "source": [
    "import pandas as pd "
   ]
  },
  {
   "cell_type": "markdown",
   "metadata": {},
   "source": [
    "# Desarolla dos ejemplos del coeficiente de Spearman"
   ]
  },
  {
   "cell_type": "code",
   "execution_count": 5,
   "metadata": {},
   "outputs": [],
   "source": [
    "def corr_spearman(df,var1,var2):\n",
    "    n = len(df)\n",
    "    df[\"diferencia\"] = df[var1] - df[var2]\n",
    "    df[\"diferencia^2\"] = df[\"diferencia\"]**2\n",
    "    suma = sum(df[\"diferencia^2\"])\n",
    "    \n",
    "    r_s = 1-((6*suma)/(n*(n+1)*(n-1)))\n",
    "    return r_s\n",
    "    "
   ]
  },
  {
   "cell_type": "markdown",
   "metadata": {},
   "source": [
    "Ejemplo 1.\n",
    "\n",
    "Se desea conocer el grado de relación entre las posiciones que ocuparon 10 atletas que tomaron parte en dos pruebas de 100 (Xi\n",
    ") y 200 (Yi) mts planos.Los resultados se muestran a continuación:"
   ]
  },
  {
   "cell_type": "code",
   "execution_count": 8,
   "metadata": {},
   "outputs": [
    {
     "data": {
      "text/html": [
       "<div>\n",
       "<style scoped>\n",
       "    .dataframe tbody tr th:only-of-type {\n",
       "        vertical-align: middle;\n",
       "    }\n",
       "\n",
       "    .dataframe tbody tr th {\n",
       "        vertical-align: top;\n",
       "    }\n",
       "\n",
       "    .dataframe thead th {\n",
       "        text-align: right;\n",
       "    }\n",
       "</style>\n",
       "<table border=\"1\" class=\"dataframe\">\n",
       "  <thead>\n",
       "    <tr style=\"text-align: right;\">\n",
       "      <th></th>\n",
       "      <th>Atletas</th>\n",
       "      <th>100 mts</th>\n",
       "      <th>200 mts</th>\n",
       "    </tr>\n",
       "  </thead>\n",
       "  <tbody>\n",
       "    <tr>\n",
       "      <th>0</th>\n",
       "      <td>A</td>\n",
       "      <td>1</td>\n",
       "      <td>2</td>\n",
       "    </tr>\n",
       "    <tr>\n",
       "      <th>1</th>\n",
       "      <td>B</td>\n",
       "      <td>2</td>\n",
       "      <td>1</td>\n",
       "    </tr>\n",
       "    <tr>\n",
       "      <th>2</th>\n",
       "      <td>C</td>\n",
       "      <td>4</td>\n",
       "      <td>3</td>\n",
       "    </tr>\n",
       "    <tr>\n",
       "      <th>3</th>\n",
       "      <td>D</td>\n",
       "      <td>3</td>\n",
       "      <td>4</td>\n",
       "    </tr>\n",
       "    <tr>\n",
       "      <th>4</th>\n",
       "      <td>E</td>\n",
       "      <td>5</td>\n",
       "      <td>6</td>\n",
       "    </tr>\n",
       "    <tr>\n",
       "      <th>5</th>\n",
       "      <td>F</td>\n",
       "      <td>6</td>\n",
       "      <td>5</td>\n",
       "    </tr>\n",
       "    <tr>\n",
       "      <th>6</th>\n",
       "      <td>G</td>\n",
       "      <td>7</td>\n",
       "      <td>7</td>\n",
       "    </tr>\n",
       "    <tr>\n",
       "      <th>7</th>\n",
       "      <td>H</td>\n",
       "      <td>8</td>\n",
       "      <td>8</td>\n",
       "    </tr>\n",
       "    <tr>\n",
       "      <th>8</th>\n",
       "      <td>I</td>\n",
       "      <td>10</td>\n",
       "      <td>9</td>\n",
       "    </tr>\n",
       "    <tr>\n",
       "      <th>9</th>\n",
       "      <td>J</td>\n",
       "      <td>9</td>\n",
       "      <td>10</td>\n",
       "    </tr>\n",
       "  </tbody>\n",
       "</table>\n",
       "</div>"
      ],
      "text/plain": [
       "  Atletas  100 mts  200 mts\n",
       "0       A        1        2\n",
       "1       B        2        1\n",
       "2       C        4        3\n",
       "3       D        3        4\n",
       "4       E        5        6\n",
       "5       F        6        5\n",
       "6       G        7        7\n",
       "7       H        8        8\n",
       "8       I       10        9\n",
       "9       J        9       10"
      ]
     },
     "execution_count": 8,
     "metadata": {},
     "output_type": "execute_result"
    }
   ],
   "source": [
    "Atletas = [\"A\",\"B\",\"C\",\"D\",\"E\",\"F\",\"G\",\"H\",\"I\",\"J\"]\n",
    "cien_metros = [1,2,4,3,5,6,7,8,10,9]\n",
    "doscientos_metros = [2,1,3,4,6,5,7,8,9,10]\n",
    "\n",
    "data = {\"Atletas\": Atletas, \"100 mts\": cien_metros,\n",
    "        \"200 mts\": doscientos_metros}\n",
    "df = pd.DataFrame(data = data)\n",
    "df\n"
   ]
  },
  {
   "cell_type": "code",
   "execution_count": 9,
   "metadata": {},
   "outputs": [
    {
     "data": {
      "text/plain": [
       "0.9515151515151515"
      ]
     },
     "execution_count": 9,
     "metadata": {},
     "output_type": "execute_result"
    }
   ],
   "source": [
    "corr_spearman(df,\"100 mts\",\"200 mts\")"
   ]
  },
  {
   "cell_type": "markdown",
   "metadata": {},
   "source": [
    "La intepretación: los atletas que lograron las mejores posiciones en la prueba de los 100 metros planos, tienden en forma muy alta a obtener las mejores posiciones en la prueba de los 200 metros planos, ya que tenemos un coeficiente de correlación de Spearman de 0.95"
   ]
  },
  {
   "cell_type": "markdown",
   "metadata": {},
   "source": [
    "Ejemplo 2 \n",
    "\n",
    "Calcular e interpretar el Coeficiente de Correlación de Spearman, entre los resultados obtenidos por un grupo de estudiantes de\n",
    "tercer año en dos pruebas objetivas finales de lapso, Castellano (Xi\n",
    ") y Cs. Biológicas (Yi)."
   ]
  },
  {
   "cell_type": "code",
   "execution_count": 108,
   "metadata": {},
   "outputs": [
    {
     "data": {
      "text/html": [
       "<div>\n",
       "<style scoped>\n",
       "    .dataframe tbody tr th:only-of-type {\n",
       "        vertical-align: middle;\n",
       "    }\n",
       "\n",
       "    .dataframe tbody tr th {\n",
       "        vertical-align: top;\n",
       "    }\n",
       "\n",
       "    .dataframe thead th {\n",
       "        text-align: right;\n",
       "    }\n",
       "</style>\n",
       "<table border=\"1\" class=\"dataframe\">\n",
       "  <thead>\n",
       "    <tr style=\"text-align: right;\">\n",
       "      <th></th>\n",
       "      <th>Estudiantes</th>\n",
       "      <th>Estadistica 1</th>\n",
       "      <th>Estadistica 3</th>\n",
       "    </tr>\n",
       "  </thead>\n",
       "  <tbody>\n",
       "    <tr>\n",
       "      <th>0</th>\n",
       "      <td>A</td>\n",
       "      <td>10</td>\n",
       "      <td>10</td>\n",
       "    </tr>\n",
       "    <tr>\n",
       "      <th>1</th>\n",
       "      <td>B</td>\n",
       "      <td>9</td>\n",
       "      <td>10</td>\n",
       "    </tr>\n",
       "    <tr>\n",
       "      <th>2</th>\n",
       "      <td>C</td>\n",
       "      <td>8</td>\n",
       "      <td>9</td>\n",
       "    </tr>\n",
       "    <tr>\n",
       "      <th>3</th>\n",
       "      <td>D</td>\n",
       "      <td>8</td>\n",
       "      <td>6</td>\n",
       "    </tr>\n",
       "    <tr>\n",
       "      <th>4</th>\n",
       "      <td>E</td>\n",
       "      <td>7</td>\n",
       "      <td>6</td>\n",
       "    </tr>\n",
       "    <tr>\n",
       "      <th>5</th>\n",
       "      <td>F</td>\n",
       "      <td>6</td>\n",
       "      <td>6</td>\n",
       "    </tr>\n",
       "    <tr>\n",
       "      <th>6</th>\n",
       "      <td>G</td>\n",
       "      <td>6</td>\n",
       "      <td>5</td>\n",
       "    </tr>\n",
       "  </tbody>\n",
       "</table>\n",
       "</div>"
      ],
      "text/plain": [
       "  Estudiantes  Estadistica 1  Estadistica 3\n",
       "0           A             10             10\n",
       "1           B              9             10\n",
       "2           C              8              9\n",
       "3           D              8              6\n",
       "4           E              7              6\n",
       "5           F              6              6\n",
       "6           G              6              5"
      ]
     },
     "execution_count": 108,
     "metadata": {},
     "output_type": "execute_result"
    }
   ],
   "source": [
    "Estudiantes = [\"A\",\"B\",\"C\",\"D\",\"E\",\"F\",\"G\"]\n",
    "Estadistica1 = [10,9,8,8,7,6,6]\n",
    "Estadistica3 = [10,10,9,6,6,6,5]\n",
    "\n",
    "data1 = {\"Estudiantes\": Estudiantes, \"Estadistica 1\": Estadistica1,\n",
    "        \"Estadistica 3\": Estadistica3}\n",
    "df = pd.DataFrame(data = data1)\n",
    "df"
   ]
  },
  {
   "cell_type": "markdown",
   "metadata": {},
   "source": [
    "Procedimiento:\n",
    "* 1) Se convierte los puntajes en posiciones, de la siguiente manera: en la Variable Xi (Estadistica 1), el estudiante A obtuvo la mayor puntuación, entonces se le asigna la posición 1 y asi sucesivamente, en el caso de los estudiantes C y D, tienen las mismas puntuaciones, es decir se tiene un “empates”, se deben sumar los lugares que les tocarían si no estuviesen empates y se divide entre el número de valores iguales, de la misma forma se le aplicaría a los estudiantes F y G."
   ]
  },
  {
   "cell_type": "code",
   "execution_count": 109,
   "metadata": {},
   "outputs": [],
   "source": [
    "df[\"posiciones_est1\"] = [1,2,3.5,3.5,5,6.5,6.5]\n",
    "df[\"posiciones_est2\"] = [1.5,1.5,3,5,5,5,7]"
   ]
  },
  {
   "cell_type": "code",
   "execution_count": 110,
   "metadata": {},
   "outputs": [
    {
     "data": {
      "text/html": [
       "<div>\n",
       "<style scoped>\n",
       "    .dataframe tbody tr th:only-of-type {\n",
       "        vertical-align: middle;\n",
       "    }\n",
       "\n",
       "    .dataframe tbody tr th {\n",
       "        vertical-align: top;\n",
       "    }\n",
       "\n",
       "    .dataframe thead th {\n",
       "        text-align: right;\n",
       "    }\n",
       "</style>\n",
       "<table border=\"1\" class=\"dataframe\">\n",
       "  <thead>\n",
       "    <tr style=\"text-align: right;\">\n",
       "      <th></th>\n",
       "      <th>Estudiantes</th>\n",
       "      <th>Estadistica 1</th>\n",
       "      <th>Estadistica 3</th>\n",
       "      <th>posiciones_est1</th>\n",
       "      <th>posiciones_est2</th>\n",
       "    </tr>\n",
       "  </thead>\n",
       "  <tbody>\n",
       "    <tr>\n",
       "      <th>0</th>\n",
       "      <td>A</td>\n",
       "      <td>10</td>\n",
       "      <td>10</td>\n",
       "      <td>1.0</td>\n",
       "      <td>1.5</td>\n",
       "    </tr>\n",
       "    <tr>\n",
       "      <th>1</th>\n",
       "      <td>B</td>\n",
       "      <td>9</td>\n",
       "      <td>10</td>\n",
       "      <td>2.0</td>\n",
       "      <td>1.5</td>\n",
       "    </tr>\n",
       "    <tr>\n",
       "      <th>2</th>\n",
       "      <td>C</td>\n",
       "      <td>8</td>\n",
       "      <td>9</td>\n",
       "      <td>3.5</td>\n",
       "      <td>3.0</td>\n",
       "    </tr>\n",
       "    <tr>\n",
       "      <th>3</th>\n",
       "      <td>D</td>\n",
       "      <td>8</td>\n",
       "      <td>6</td>\n",
       "      <td>3.5</td>\n",
       "      <td>5.0</td>\n",
       "    </tr>\n",
       "    <tr>\n",
       "      <th>4</th>\n",
       "      <td>E</td>\n",
       "      <td>7</td>\n",
       "      <td>6</td>\n",
       "      <td>5.0</td>\n",
       "      <td>5.0</td>\n",
       "    </tr>\n",
       "    <tr>\n",
       "      <th>5</th>\n",
       "      <td>F</td>\n",
       "      <td>6</td>\n",
       "      <td>6</td>\n",
       "      <td>6.5</td>\n",
       "      <td>5.0</td>\n",
       "    </tr>\n",
       "    <tr>\n",
       "      <th>6</th>\n",
       "      <td>G</td>\n",
       "      <td>6</td>\n",
       "      <td>5</td>\n",
       "      <td>6.5</td>\n",
       "      <td>7.0</td>\n",
       "    </tr>\n",
       "  </tbody>\n",
       "</table>\n",
       "</div>"
      ],
      "text/plain": [
       "  Estudiantes  Estadistica 1  Estadistica 3  posiciones_est1  posiciones_est2\n",
       "0           A             10             10              1.0              1.5\n",
       "1           B              9             10              2.0              1.5\n",
       "2           C              8              9              3.5              3.0\n",
       "3           D              8              6              3.5              5.0\n",
       "4           E              7              6              5.0              5.0\n",
       "5           F              6              6              6.5              5.0\n",
       "6           G              6              5              6.5              7.0"
      ]
     },
     "execution_count": 110,
     "metadata": {},
     "output_type": "execute_result"
    }
   ],
   "source": [
    "df"
   ]
  },
  {
   "cell_type": "code",
   "execution_count": 111,
   "metadata": {},
   "outputs": [
    {
     "data": {
      "text/plain": [
       "0.9017857142857143"
      ]
     },
     "execution_count": 111,
     "metadata": {},
     "output_type": "execute_result"
    }
   ],
   "source": [
    "corr_spearman(df,\"posiciones_est1\",\"posiciones_est2\")"
   ]
  },
  {
   "cell_type": "markdown",
   "metadata": {},
   "source": [
    "Interpretación: Los estudiantes que lograron las mejores notas en la materia de Estadistica 1, tienden muy altamente a obtener las mejores calificaciones en la materia de Estadistica 3, ya que el coeficiente de correlación de Spearman es de 0.90."
   ]
  },
  {
   "cell_type": "markdown",
   "metadata": {},
   "source": [
    "# Ejercicio 2 "
   ]
  },
  {
   "cell_type": "markdown",
   "metadata": {},
   "source": [
    "## Investiga que es el remuestreo y realiza un ensayo de al menos una cuartilla. \n",
    "\n",
    "Recordemos que la teoría estadística trata de respondes 3 preguntas clave: \n",
    "\n",
    "* ¿Como debo de recoger o muestrar mis datos?\n",
    "* ¿Como debo de analizar y resumir los datos recogidos?\n",
    "* ¿Como son de exactos los datos resumidos?\n",
    "\n",
    "La respuesta de la pregunta 3 esta relacionada con la Inferencia Estadistica \n",
    "\n",
    "Las técnicas de remuestreo son tecnicas desarrolladas hace pocos años para calcular estadisticos, basandose en tecnicas\n",
    "computacionales intensivas que evitan los calculos complejos de la teorıa estadıstica y aunque el resmuestreo ocupa conceptos de estadistica tradicional, el concepto de implementación cambia completamente. \n",
    "\n",
    "Cuando no se satisfacen las condiciones teoricas o no las podemos comprobar o no tenemos garantia de que vayan a ser verdad, el intervalo obtenido no tiene porque garantizarnos que contenga el 95% de las veces el parametro poblacional estudiado, ya sea la media, proporcion o varianza, en estos casos no podemos usar los metodos parametricos, dependiendo del parametro de la muestra estudiado, sino que hay que recurrir a metodos no parametricos, \"remuestreo\". \n",
    "En pocas palabras, se remuestrea, la muestra, osea se tiene una muestra y se toman muchas muestras aleatorias simples de la muestra original de la que disponga, cada una de ellas del mismo tamaño que de la muestra original, con una caracteristica de que elementos de las muestras pueden estar repetidos. \n",
    "\n",
    "Lo segundo es estudiar el estimador de cada una de estas  submuestras que se hayan tomado, de modo que tendremos una serie de estimadores puntuales, posteriomente se organizan los resultados en un vector, desde el mas pequeño hasta el mas grande y se construya un intervalo de confianza sobre los estimadores de cada una de las submuestras elegidas. \n"
   ]
  },
  {
   "cell_type": "markdown",
   "metadata": {},
   "source": [
    "## Menciona dos tecnicas de remuestreo y desarrolla un ejemplo de cada una de ellas. "
   ]
  },
  {
   "cell_type": "markdown",
   "metadata": {},
   "source": [
    "### Metodo de los percentiles"
   ]
  },
  {
   "cell_type": "markdown",
   "metadata": {},
   "source": [
    "La manera mas facil de llevar a cabo el calculo final del intervalo de confianza y no usar ninguno de los metodos parametricos es usando el famoso metodo de los percentiles, en el que se toman como extremos del intervalo de confianza del (1-$\\alpha$)(100) los cuantiles de orden $\\frac{\\alpha}{2}$ y 1- $\\frac{\\alpha}{2}$ del vector de estimadores. \n",
    "\n",
    "Por ejemplo si hemos creado 100 estimadores y los ordenamos del mas pequeño al mas grande, para elegir un intervalo de confianza al 90%, si los hemos ordenado del 1 hasta al 100, un intervalo de confianza al 90% tendría por extremos el valor en la posición numero 5 o 6 y el valor en la posición numero 95. "
   ]
  },
  {
   "cell_type": "code",
   "execution_count": 5,
   "metadata": {},
   "outputs": [],
   "source": [
    "import random \n",
    "import pandas as pd\n",
    "import numpy as np "
   ]
  },
  {
   "cell_type": "code",
   "execution_count": 6,
   "metadata": {},
   "outputs": [],
   "source": [
    "datos = pd.read_csv(\"C:/Users/URIEL/Documents/CURSO PYTHON/CURSO AVANZADO DE PYTHON/Iris.csv\")"
   ]
  },
  {
   "cell_type": "code",
   "execution_count": 7,
   "metadata": {},
   "outputs": [
    {
     "data": {
      "text/html": [
       "<div>\n",
       "<style scoped>\n",
       "    .dataframe tbody tr th:only-of-type {\n",
       "        vertical-align: middle;\n",
       "    }\n",
       "\n",
       "    .dataframe tbody tr th {\n",
       "        vertical-align: top;\n",
       "    }\n",
       "\n",
       "    .dataframe thead th {\n",
       "        text-align: right;\n",
       "    }\n",
       "</style>\n",
       "<table border=\"1\" class=\"dataframe\">\n",
       "  <thead>\n",
       "    <tr style=\"text-align: right;\">\n",
       "      <th></th>\n",
       "      <th>Id</th>\n",
       "      <th>SepalLengthCm</th>\n",
       "      <th>SepalWidthCm</th>\n",
       "      <th>PetalLengthCm</th>\n",
       "      <th>PetalWidthCm</th>\n",
       "      <th>Species</th>\n",
       "    </tr>\n",
       "  </thead>\n",
       "  <tbody>\n",
       "    <tr>\n",
       "      <th>0</th>\n",
       "      <td>1</td>\n",
       "      <td>5.1</td>\n",
       "      <td>3.5</td>\n",
       "      <td>1.4</td>\n",
       "      <td>0.2</td>\n",
       "      <td>Iris-setosa</td>\n",
       "    </tr>\n",
       "    <tr>\n",
       "      <th>1</th>\n",
       "      <td>2</td>\n",
       "      <td>4.9</td>\n",
       "      <td>3.0</td>\n",
       "      <td>1.4</td>\n",
       "      <td>0.2</td>\n",
       "      <td>Iris-setosa</td>\n",
       "    </tr>\n",
       "    <tr>\n",
       "      <th>2</th>\n",
       "      <td>3</td>\n",
       "      <td>4.7</td>\n",
       "      <td>3.2</td>\n",
       "      <td>1.3</td>\n",
       "      <td>0.2</td>\n",
       "      <td>Iris-setosa</td>\n",
       "    </tr>\n",
       "    <tr>\n",
       "      <th>3</th>\n",
       "      <td>4</td>\n",
       "      <td>4.6</td>\n",
       "      <td>3.1</td>\n",
       "      <td>1.5</td>\n",
       "      <td>0.2</td>\n",
       "      <td>Iris-setosa</td>\n",
       "    </tr>\n",
       "    <tr>\n",
       "      <th>4</th>\n",
       "      <td>5</td>\n",
       "      <td>5.0</td>\n",
       "      <td>3.6</td>\n",
       "      <td>1.4</td>\n",
       "      <td>0.2</td>\n",
       "      <td>Iris-setosa</td>\n",
       "    </tr>\n",
       "  </tbody>\n",
       "</table>\n",
       "</div>"
      ],
      "text/plain": [
       "   Id  SepalLengthCm  SepalWidthCm  PetalLengthCm  PetalWidthCm      Species\n",
       "0   1            5.1           3.5            1.4           0.2  Iris-setosa\n",
       "1   2            4.9           3.0            1.4           0.2  Iris-setosa\n",
       "2   3            4.7           3.2            1.3           0.2  Iris-setosa\n",
       "3   4            4.6           3.1            1.5           0.2  Iris-setosa\n",
       "4   5            5.0           3.6            1.4           0.2  Iris-setosa"
      ]
     },
     "execution_count": 7,
     "metadata": {},
     "output_type": "execute_result"
    }
   ],
   "source": [
    "datos.head(5)"
   ]
  },
  {
   "cell_type": "code",
   "execution_count": 1,
   "metadata": {},
   "outputs": [],
   "source": [
    "def Cuantil_Empirica(lista,p):\n",
    "    acumulado = 0\n",
    "    datos = lista\n",
    "    datos.sort()\n",
    "    dominio = []\n",
    "    [dominio.append(x) for x in datos if x not in dominio]\n",
    "    dominio.sort()\n",
    "    n = len(datos)\n",
    "    num_terminos = 0\n",
    "    P = []\n",
    "    for i in range(len(dominio)):\n",
    "        if i < len(dominio) - 1:\n",
    "            for j in range(len(datos)): \n",
    "                if (dominio[i] <= datos[j]) and (datos[j] < dominio[i+1]):\n",
    "                    num_terminos += 1\n",
    "                    probabilidad = num_terminos/n\n",
    "            if probabilidad == p or probabilidad>p:\n",
    "                acumulado = dominio[i]\n",
    "                break\n",
    "        \n",
    "        else:\n",
    "            continue\n",
    "        \n",
    "    return acumulado"
   ]
  },
  {
   "cell_type": "code",
   "execution_count": 17,
   "metadata": {},
   "outputs": [],
   "source": [
    "#funcion que nos  remuestra 1000 veces una muestra de 60 datos elegidas de cierto data set, obteniendo asi 1000 varianzas,\n",
    "# cada varianza le pertenece a cada una de esas remuestras, por el metodo de percentiles.\n",
    "\n",
    "\n",
    "def Boots_Percentil_varianza(datos,var1,alpha):\n",
    "\n",
    "    n = len(datos)\n",
    "    elegidas = random.sample(range(0,n),60)\n",
    "    varianzas = []\n",
    "\n",
    "    for _ in range(1000):\n",
    "        f_elegidas = []\n",
    "        for i in range(len(elegidas)):\n",
    "            f_elegidas.append(elegidas[random.randint(0,len(elegidas)-1)])\n",
    "        varianzas.append(np.var(datos.iloc[f_elegidas,][var1]))\n",
    "        \n",
    "    IC_boot = [Cuantil_Empirica(varianzas,alpha/2),Cuantil_Empirica(varianzas,1-(alpha/2))]\n",
    "    IC_boot\n",
    "        \n",
    "    return IC_boot"
   ]
  },
  {
   "cell_type": "markdown",
   "metadata": {},
   "source": [
    "Ejemplo 1. \n",
    "\n",
    "Hallaremos un intervalo de confianza para la varianza de la longitud del pétalo de la tabla de datos de Iris. \n",
    "\n",
    "Tenemos que la variable que consideraremos no puede provenir de una distribución normal, calcularemos las varianzas de 1000 muestras \"remuestreadas\" de nuestra muestra original. "
   ]
  },
  {
   "cell_type": "code",
   "execution_count": 19,
   "metadata": {
    "scrolled": true
   },
   "outputs": [
    {
     "data": {
      "text/plain": [
       "[3.044599999999998, 3.4583638888888886]"
      ]
     },
     "execution_count": 19,
     "metadata": {},
     "output_type": "execute_result"
    }
   ],
   "source": [
    "Boots_Percentil_varianza(datos, \"PetalLengthCm\",0.5)"
   ]
  },
  {
   "cell_type": "markdown",
   "metadata": {},
   "source": [
    "Intepretación\n",
    "\n",
    "Un intervalo de confianza al 95% usando el método de los percentiles (cuantiles de orden $\\frac{\\alpha}{2}$ = 0.025 y 1 - $\\frac{\\alpha}{2}$ = 0.975)  de Boostraping para la varianza de estas flores es de: \n",
    "\n",
    "(3.044599999999998, 3.4583638888888886)"
   ]
  },
  {
   "cell_type": "markdown",
   "metadata": {},
   "source": [
    "### Metodo percentil -t simetrizado \n",
    "\n",
    "Es un método análogo al percentil-𝑡. Sólo difiere de él en la forma de seleccionar los cuantiles de la\n",
    "distribución bootstrap. En lugar de tomar cuantiles que dejen colas iguales $\\frac{\\alpha}{2}$ a la izquierda y a la derecha respectivamente, se eligen los cuantiles de forma que sean simetricos. \n",
    "\n",
    "Con lo cual el intervalo de confianza boostrap  calculado por el metodo percentil-t simetrizado se define como: \n",
    "* $\\hat{I}_{3}$ = ($\\hat{\\theta}-\\frac{\\hat{\\sigma_{\\theta}}}{\\sqrt{n}}y_{1-\\alpha},\\hat{\\theta}+\\frac{\\hat{\\sigma_{\\theta}}}{\\sqrt{n}}y_{1-\\alpha}$)"
   ]
  },
  {
   "cell_type": "markdown",
   "metadata": {},
   "source": [
    "Ejemplo 2. \n",
    "\n",
    "Sobre el mismo dataset de Iris, trataremos de obtener la media de la longitud del petalo, empleando asi el metodo percentil-t simetrizado. "
   ]
  },
  {
   "cell_type": "code",
   "execution_count": 19,
   "metadata": {},
   "outputs": [
    {
     "data": {
      "text/plain": [
       "[3.763543921783755, 4.136456078216246]"
      ]
     },
     "execution_count": 19,
     "metadata": {},
     "output_type": "execute_result"
    }
   ],
   "source": [
    "random.seed(10)\n",
    "\n",
    "alpha = 0.05\n",
    "n = len(datos)\n",
    "flores_elegidas = random.sample(range(0,n),60)\n",
    "estadistico_boot = []\n",
    "muestra = datos.iloc[flores_elegidas,:]\n",
    "\n",
    "for _ in range(10):\n",
    "    flores = []\n",
    "    for i in range(len(flores_elegidas)):\n",
    "        flores.append(flores_elegidas[random.randint(0,len(flores_elegidas)-1)])\n",
    "       \n",
    "    media_boots = np.mean(datos.iloc[flores,][\"PetalLengthCm\"])\n",
    "    cuasi_dt_boot = np.std(datos.iloc[flores,][\"PetalLengthCm\"])\n",
    "    estadistico_boot.append(np.sqrt(n)*(abs(media_boots-np.mean(muestra[\"PetalLengthCm\"]))/cuasi_dt_boot))\n",
    "    \n",
    "    \n",
    "#aproximacion del pto critico \n",
    "pt_critico = Cuantil_Empirica(estadistico_boot, 0.9)\n",
    "\n",
    "#construccion del IC \n",
    "ic_inf = np.mean(muestra[\"PetalLengthCm\"]) - (pt_critico * (np.std(muestra[\"PetalLengthCm\"])/np.sqrt(n)))\n",
    "ic_sup = np.mean(muestra[\"PetalLengthCm\"]) + (pt_critico * (np.std(muestra[\"PetalLengthCm\"])/np.sqrt(n)))\n",
    "\n",
    "IC_boot = [ic_inf, ic_sup]\n",
    "IC_boot"
   ]
  },
  {
   "cell_type": "markdown",
   "metadata": {},
   "source": [
    "Interpretaciòn.\n",
    "\n",
    "Un intervalo de confianza usando el método de los percentiles t-simetrizado de Boostraping para la media de estas flores es de: \n",
    "\n",
    "(3.763543921783755, 4.136456078216246)"
   ]
  },
  {
   "cell_type": "markdown",
   "metadata": {},
   "source": [
    "# Ejercicio 3: Con base al archivo datos1.xlsx realiza lo siguiente: "
   ]
  },
  {
   "cell_type": "code",
   "execution_count": 8,
   "metadata": {},
   "outputs": [],
   "source": [
    "from scipy import stats\n",
    "import pandas as pd \n",
    "import numpy as np\n",
    "import matplotlib.pyplot as plt \n",
    "%matplotlib inline "
   ]
  },
  {
   "cell_type": "markdown",
   "metadata": {},
   "source": [
    "## Una prueba de Mann-Whitney e interpreta los resultados"
   ]
  },
  {
   "cell_type": "markdown",
   "metadata": {},
   "source": [
    "Recordemos que la prueba  es  no paramétrica y es aplicada a dos muestras independientes. \n",
    "\n",
    "La usaremos para determinar la heterogeneidad de dos muestras ordinales. El planteamiento de partida es:\n",
    "\n",
    "* Las observaciones de ambos grupos son independientes\n",
    "* Las observaciones son variables ordinales o continuas.\n",
    "\n",
    "Bajo la hipótesis nula, la distribución de partida de ambos grupos es la misma y Bajo la hipótesis alternativa, los valores de una de las muestras tienden a exceder a los de la otra. "
   ]
  },
  {
   "cell_type": "code",
   "execution_count": 12,
   "metadata": {},
   "outputs": [],
   "source": [
    "datos = pd.read_csv(\"C:/Users/URIEL/Documents/datos examen/dato1_MW.csv\")"
   ]
  },
  {
   "cell_type": "code",
   "execution_count": 13,
   "metadata": {},
   "outputs": [],
   "source": [
    "\n",
    "\n",
    "X = datos.iloc[:,0].values\n",
    "Y = datos.iloc[:,1].values"
   ]
  },
  {
   "cell_type": "code",
   "execution_count": 14,
   "metadata": {},
   "outputs": [
    {
     "data": {
      "text/plain": [
       "(array([ 3.,  6., 10., 26., 17., 22.,  8.,  6.,  1.,  1.]),\n",
       " array([-1.87967994, -1.3303518 , -0.78102365, -0.2316955 ,  0.31763264,\n",
       "         0.86696079,  1.41628894,  1.96561708,  2.51494523,  3.06427338,\n",
       "         3.61360152]),\n",
       " <a list of 10 Patch objects>)"
      ]
     },
     "execution_count": 14,
     "metadata": {},
     "output_type": "execute_result"
    },
    {
     "data": {
      "image/png": "[encoded data removed]",
      "text/plain": [
       "<Figure size 432x288 with 1 Axes>"
      ]
     },
     "metadata": {
      "needs_background": "light"
     },
     "output_type": "display_data"
    }
   ],
   "source": [
    "plt.hist(X)\n",
    "plt.hist(Y)"
   ]
  },
  {
   "cell_type": "code",
   "execution_count": 15,
   "metadata": {},
   "outputs": [
    {
     "data": {
      "text/plain": [
       "MannwhitneyuResult(statistic=3241.0, pvalue=8.668003006200627e-06)"
      ]
     },
     "execution_count": 15,
     "metadata": {},
     "output_type": "execute_result"
    }
   ],
   "source": [
    "stats.mannwhitneyu(X,Y)"
   ]
  },
  {
   "cell_type": "markdown",
   "metadata": {},
   "source": [
    "Interpretación: \n",
    "\n",
    "En este caso vemos que el pvalue<0.05, por lo tanto aceptamos la hipotesis alternativa, de que ambas pruebas provenienen de distribuciones diferentes. "
   ]
  },
  {
   "cell_type": "markdown",
   "metadata": {},
   "source": [
    "## Una prueba de Wilcoxon e interpreta los resultados."
   ]
  },
  {
   "cell_type": "code",
   "execution_count": 23,
   "metadata": {},
   "outputs": [],
   "source": [
    "datos = pd.read_csv(\"C:/Users/URIEL/Documents/datos examen/datos1_w.csv\")"
   ]
  },
  {
   "cell_type": "code",
   "execution_count": 27,
   "metadata": {},
   "outputs": [],
   "source": [
    "X1 = datos.iloc[:,0].values\n",
    "Y1 = datos.iloc[:,1].values"
   ]
  },
  {
   "cell_type": "code",
   "execution_count": 51,
   "metadata": {},
   "outputs": [
    {
     "data": {
      "text/plain": [
       "WilcoxonResult(statistic=1761.0, pvalue=0.008617167118559617)"
      ]
     },
     "execution_count": 51,
     "metadata": {},
     "output_type": "execute_result"
    }
   ],
   "source": [
    "stats.wilcoxon(X1,Y1)"
   ]
  },
  {
   "cell_type": "markdown",
   "metadata": {},
   "source": [
    "Interpretación \n",
    "\n",
    "Recordemos que la prueba de Wilcoxon nos planeta la hipotesis nula donde tanto X1 como Y1 provenienen de la misma distribución, entonces en este caso, la rechazamos ya que el pvalue < 0.05 = nivel de significancia,aceptando asi la hipotesis alternativa, que plantea que ambas distribuciones son diferentes. \n",
    "\n"
   ]
  },
  {
   "cell_type": "markdown",
   "metadata": {},
   "source": [
    "## Realiza graficas de la distribución de las muestras y verifica que confirme tu analisis. "
   ]
  },
  {
   "cell_type": "code",
   "execution_count": 17,
   "metadata": {},
   "outputs": [],
   "source": [
    "def dist_n(data): \n",
    "        conteo, cortes = np.histogram(data, bins= 20)\n",
    "        densidad = conteo/sum(conteo)\n",
    "        acumulada = np.cumsum(densidad)\n",
    "        dominio = np.unique(sorted(data)).tolist()\n",
    "        rango = np.unique(acumulada).tolist()\n",
    "        datos_de_salida = pd.DataFrame(list(zip(dominio,rango)), columns=['X','Fx'])\n",
    "        return(datos_de_salida)"
   ]
  },
  {
   "cell_type": "code",
   "execution_count": 18,
   "metadata": {},
   "outputs": [
    {
     "data": {
      "text/plain": [
       "[<matplotlib.lines.Line2D at 0x288437c2610>]"
      ]
     },
     "execution_count": 18,
     "metadata": {},
     "output_type": "execute_result"
    },
    {
     "data": {
      "image/png": "[encoded data removed]",
      "text/plain": [
       "<Figure size 432x288 with 1 Axes>"
      ]
     },
     "metadata": {
      "needs_background": "light"
     },
     "output_type": "display_data"
    }
   ],
   "source": [
    "Fx = dist_n(X)\n",
    "Fy = dist_n(Y)\n",
    "plt.plot(Fx['X'],Fx['Fx'])\n",
    "plt.plot(Fy['X'],Fy['Fx'])"
   ]
  },
  {
   "cell_type": "markdown",
   "metadata": {},
   "source": [
    "Podemos observar que se corrobora la hipotesis de que ambas muestras proveniene de distribuciones diferentes. "
   ]
  },
  {
   "cell_type": "code",
   "execution_count": 29,
   "metadata": {},
   "outputs": [
    {
     "data": {
      "text/plain": [
       "[<matplotlib.lines.Line2D at 0x2884382da00>]"
      ]
     },
     "execution_count": 29,
     "metadata": {},
     "output_type": "execute_result"
    },
    {
     "data": {
      "image/png": "[encoded data removed]",
      "text/plain": [
       "<Figure size 432x288 with 1 Axes>"
      ]
     },
     "metadata": {
      "needs_background": "light"
     },
     "output_type": "display_data"
    }
   ],
   "source": [
    "Fx1 = dist_n(X1)\n",
    "Fy1 = dist_n(Y1)\n",
    "plt.plot(Fx1['X'],Fx1['Fx'])\n",
    "plt.plot(Fy1['X'],Fy1['Fx'])"
   ]
  },
  {
   "cell_type": "markdown",
   "metadata": {},
   "source": [
    "Podemos verificar que es cierto, no se cumple la hipotesis nula, ambos conjuntos de valores tienen distribuciones diferentes. "
   ]
  },
  {
   "cell_type": "markdown",
   "metadata": {},
   "source": [
    "# Ejercicio 4: Con base en el archivo datos2.xlsx realiza lo siguiente:"
   ]
  },
  {
   "cell_type": "markdown",
   "metadata": {},
   "source": [
    "## Una prueba de KS e interpreta los resultados. "
   ]
  },
  {
   "cell_type": "code",
   "execution_count": 30,
   "metadata": {},
   "outputs": [],
   "source": [
    "datos = pd.read_csv(\"C:/Users/URIEL/Documents/datos examen/datos2_M1.csv\")"
   ]
  },
  {
   "cell_type": "code",
   "execution_count": 31,
   "metadata": {},
   "outputs": [
    {
     "data": {
      "text/html": [
       "<div>\n",
       "<style scoped>\n",
       "    .dataframe tbody tr th:only-of-type {\n",
       "        vertical-align: middle;\n",
       "    }\n",
       "\n",
       "    .dataframe tbody tr th {\n",
       "        vertical-align: top;\n",
       "    }\n",
       "\n",
       "    .dataframe thead th {\n",
       "        text-align: right;\n",
       "    }\n",
       "</style>\n",
       "<table border=\"1\" class=\"dataframe\">\n",
       "  <thead>\n",
       "    <tr style=\"text-align: right;\">\n",
       "      <th></th>\n",
       "      <th>F1</th>\n",
       "      <th>F2</th>\n",
       "    </tr>\n",
       "  </thead>\n",
       "  <tbody>\n",
       "    <tr>\n",
       "      <th>0</th>\n",
       "      <td>0.071032</td>\n",
       "      <td>0.457336</td>\n",
       "    </tr>\n",
       "    <tr>\n",
       "      <th>1</th>\n",
       "      <td>0.880267</td>\n",
       "      <td>1.948785</td>\n",
       "    </tr>\n",
       "    <tr>\n",
       "      <th>2</th>\n",
       "      <td>0.168368</td>\n",
       "      <td>0.690729</td>\n",
       "    </tr>\n",
       "    <tr>\n",
       "      <th>3</th>\n",
       "      <td>0.476043</td>\n",
       "      <td>3.491508</td>\n",
       "    </tr>\n",
       "    <tr>\n",
       "      <th>4</th>\n",
       "      <td>0.959345</td>\n",
       "      <td>0.751515</td>\n",
       "    </tr>\n",
       "  </tbody>\n",
       "</table>\n",
       "</div>"
      ],
      "text/plain": [
       "         F1        F2\n",
       "0  0.071032  0.457336\n",
       "1  0.880267  1.948785\n",
       "2  0.168368  0.690729\n",
       "3  0.476043  3.491508\n",
       "4  0.959345  0.751515"
      ]
     },
     "execution_count": 31,
     "metadata": {},
     "output_type": "execute_result"
    }
   ],
   "source": [
    "datos.head(5)"
   ]
  },
  {
   "cell_type": "code",
   "execution_count": 65,
   "metadata": {},
   "outputs": [],
   "source": [
    "X = datos.iloc[:,0].values\n",
    "Y = datos.iloc[:,1].values\n",
    "Z = np.random.poisson(30,240)"
   ]
  },
  {
   "cell_type": "code",
   "execution_count": 72,
   "metadata": {},
   "outputs": [
    {
     "name": "stdout",
     "output_type": "stream",
     "text": [
      "KstestResult(statistic=0.9729955047587161, pvalue=3.618033269459765e-63)\n",
      "KstestResult(statistic=0.5042012202021705, pvalue=6.12065580728551e-10)\n"
     ]
    }
   ],
   "source": [
    "print(stats.kstest(X, 'norm'))\n",
    "print(stats.kstest(Y, 'norm'))\n"
   ]
  },
  {
   "cell_type": "markdown",
   "metadata": {},
   "source": [
    "Vemos que para ambas pruebas se cumple que p<0.05 por lo tanto rechazamos las hipotesis nula de que la muestras provengan de una distribucion normal."
   ]
  },
  {
   "cell_type": "code",
   "execution_count": 77,
   "metadata": {},
   "outputs": [
    {
     "name": "stdout",
     "output_type": "stream",
     "text": [
      "Ks_2sampResult(statistic=1.0, pvalue=2.220446049250313e-16)\n",
      "Ks_2sampResult(statistic=1.0, pvalue=2.220446049250313e-16)\n"
     ]
    }
   ],
   "source": [
    "print(stats.ks_2samp(X,Z))\n",
    "print(stats.ks_2samp(X,Z))\n",
    "\n"
   ]
  },
  {
   "cell_type": "markdown",
   "metadata": {},
   "source": [
    "Vemos que para ambas pruebas se cumple que p<0.05 por lo tanto rechazamos la hipotesis nula de que las muestras provengan de una distribución poisson."
   ]
  },
  {
   "cell_type": "markdown",
   "metadata": {},
   "source": [
    "## Una prueba de Anderson Darling e interpreta los resultados. "
   ]
  },
  {
   "cell_type": "code",
   "execution_count": 35,
   "metadata": {},
   "outputs": [],
   "source": [
    "datos = pd.read_csv(\"C:/Users/URIEL/Documents/datos examen/datos2_M2.csv\")"
   ]
  },
  {
   "cell_type": "code",
   "execution_count": 36,
   "metadata": {},
   "outputs": [],
   "source": [
    "X1 = datos.iloc[:,0].values\n",
    "Y1 = datos.iloc[:,1].values\n",
    "Z = np.random.poisson(30,240)"
   ]
  },
  {
   "cell_type": "code",
   "execution_count": 81,
   "metadata": {},
   "outputs": [
    {
     "name": "stdout",
     "output_type": "stream",
     "text": [
      "Anderson_ksampResult(statistic=157.63203716336074, critical_values=array([0.325, 1.226, 1.961, 2.718, 3.752, 4.592, 6.546]), significance_level=0.001)\n",
      "Anderson_ksampResult(statistic=157.63203716336074, critical_values=array([0.325, 1.226, 1.961, 2.718, 3.752, 4.592, 6.546]), significance_level=0.001)\n"
     ]
    },
    {
     "name": "stderr",
     "output_type": "stream",
     "text": [
      "<ipython-input-81-bb33ebbd4f1e>:1: UserWarning: p-value floored: true value smaller than 0.001\n",
      "  print(stats.anderson_ksamp([X1,Z]))\n",
      "<ipython-input-81-bb33ebbd4f1e>:2: UserWarning: p-value floored: true value smaller than 0.001\n",
      "  print(stats.anderson_ksamp([Y1,Z]))\n"
     ]
    }
   ],
   "source": [
    "print(stats.anderson_ksamp([X1,Z]))\n",
    "print(stats.anderson_ksamp([Y1,Z]))\n",
    "          "
   ]
  },
  {
   "cell_type": "markdown",
   "metadata": {},
   "source": [
    "Interpretación: \n",
    "\n",
    "En la prueba de Anderson Darling vemos que obtenemos un p-value<0.05  por lo tanto rechazamos la hipotesis nula, que nos dice que la muestra proviene de una poblacion con una distribucion de probabilidad continua  especifica, casi siempre de la distribucion normal, aceptando que no tienen ningun comportamiento conocido\n"
   ]
  },
  {
   "cell_type": "markdown",
   "metadata": {},
   "source": [
    "## Realiza las graficas de la distribucion e interpreta los resultados. "
   ]
  },
  {
   "cell_type": "code",
   "execution_count": 38,
   "metadata": {},
   "outputs": [
    {
     "data": {
      "image/png": "[encoded data removed]",
      "text/plain": [
       "<Figure size 432x288 with 1 Axes>"
      ]
     },
     "metadata": {
      "needs_background": "light"
     },
     "output_type": "display_data"
    }
   ],
   "source": [
    "#KS\n",
    "Fx = dist_n(X)\n",
    "Fy = dist_n(Y)\n",
    "plt.plot(Fx['X'],Fx['Fx'])\n",
    "plt.plot(Fy['X'],Fy['Fx'])\n",
    "\n",
    "plt.show()"
   ]
  },
  {
   "cell_type": "code",
   "execution_count": 39,
   "metadata": {},
   "outputs": [
    {
     "data": {
      "image/png": "[encoded data removed]",
      "text/plain": [
       "<Figure size 432x288 with 1 Axes>"
      ]
     },
     "metadata": {
      "needs_background": "light"
     },
     "output_type": "display_data"
    }
   ],
   "source": [
    "#Anderson Darling\n",
    "Fx1 = dist_n(X1)\n",
    "Fy1 = dist_n(Y1)\n",
    "plt.plot(Fx1['X'],Fx1['Fx'])\n",
    "plt.plot(Fy1['X'],Fy1['Fx'])\n",
    "\n",
    "plt.show()"
   ]
  },
  {
   "cell_type": "markdown",
   "metadata": {},
   "source": [
    "# Ejercicio 5: Se plantea que las siguientes muestras (datos3.xlsx) provienen de una distribucion normal, verifica si la hipotesis es cierta para un nivel de confianza del .10, ocupa al menos dos pruebas para validar tu resultado. "
   ]
  },
  {
   "cell_type": "code",
   "execution_count": 82,
   "metadata": {},
   "outputs": [],
   "source": [
    "datos = pd.read_csv(\"C:/Users/URIEL/Documents/datos examen/datos3.csv\")"
   ]
  },
  {
   "cell_type": "code",
   "execution_count": 83,
   "metadata": {},
   "outputs": [],
   "source": [
    "datos.head(10)\n",
    "X = datos.iloc[:,0]\n",
    "Y = datos.iloc[:,1]\n",
    "Z = datos.iloc[:,2]"
   ]
  },
  {
   "cell_type": "markdown",
   "metadata": {},
   "source": [
    "Procederemos a hacer una prueba de Kolmogorov Smirnov "
   ]
  },
  {
   "cell_type": "code",
   "execution_count": 85,
   "metadata": {},
   "outputs": [
    {
     "name": "stdout",
     "output_type": "stream",
     "text": [
      "KstestResult(statistic=0.9729955047587161, pvalue=3.618033269459765e-63)\n",
      "KstestResult(statistic=0.5042012202021705, pvalue=6.12065580728551e-10)\n",
      "KstestResult(statistic=0.9772498680518208, pvalue=3.805281502684192e-66)\n"
     ]
    }
   ],
   "source": [
    "print(stats.kstest(X, 'norm'))\n",
    "print(stats.kstest(Y, 'norm'))\n",
    "print(stats.kstest(Z, 'norm'))"
   ]
  },
  {
   "cell_type": "markdown",
   "metadata": {},
   "source": [
    "Podemos observar que ninguna de las 3 muestras tienes un comportamiento normal, ya que rechazamos la hipotesis nula de que provengan de una distribucion normal, ya que pvalue<0.10"
   ]
  },
  {
   "cell_type": "code",
   "execution_count": 123,
   "metadata": {},
   "outputs": [
    {
     "data": {
      "text/plain": [
       "[<matplotlib.lines.Line2D at 0x28843f847c0>]"
      ]
     },
     "execution_count": 123,
     "metadata": {},
     "output_type": "execute_result"
    },
    {
     "data": {
      "image/png": "[encoded data removed]",
      "text/plain": [
       "<Figure size 432x288 with 1 Axes>"
      ]
     },
     "metadata": {
      "needs_background": "light"
     },
     "output_type": "display_data"
    }
   ],
   "source": [
    "Fx = dist_n(X)\n",
    "Fy = dist_n(Y)\n",
    "Fz = dist_n(Z)\n",
    "plt.plot(Fx['X'],Fx['Fx'])\n",
    "plt.plot(Fy['X'],Fy['Fx'])\n",
    "plt.plot(Fz['X'],Fz['Fx'])"
   ]
  },
  {
   "cell_type": "markdown",
   "metadata": {},
   "source": [
    "# Ejercicio 6: Se tienen la siguiente poblaciones (datos4.xlsx), valida si las poblaciones efectivamente son distintas, justifica tus resultados. "
   ]
  },
  {
   "cell_type": "code",
   "execution_count": 88,
   "metadata": {},
   "outputs": [],
   "source": [
    "datos = pd.read_csv(\"C:/Users/URIEL/Documents/datos examen/datos4.csv\")"
   ]
  },
  {
   "cell_type": "code",
   "execution_count": 100,
   "metadata": {},
   "outputs": [],
   "source": [
    "GrupoA = datos[datos[\"Grupo\"]==\"A\"]\n",
    "GrupoB = datos[datos[\"Grupo\"]==\"B\"]\n",
    "GrupoC = datos[datos[\"Grupo\"]==\"C\"]\n",
    "\n",
    "A = GrupoA.iloc[:,0].values\n",
    "B = GrupoB.iloc[:,0].values\n",
    "C = GrupoC.iloc[:,0].values"
   ]
  },
  {
   "cell_type": "code",
   "execution_count": 107,
   "metadata": {},
   "outputs": [
    {
     "data": {
      "text/plain": [
       "[<matplotlib.lines.Line2D at 0x2884423b6a0>]"
      ]
     },
     "execution_count": 107,
     "metadata": {},
     "output_type": "execute_result"
    },
    {
     "data": {
      "image/png": "[encoded data removed]",
      "text/plain": [
       "<Figure size 432x288 with 1 Axes>"
      ]
     },
     "metadata": {
      "needs_background": "light"
     },
     "output_type": "display_data"
    }
   ],
   "source": [
    "Fx = dist_n(A)\n",
    "Fy = dist_n(B)\n",
    "Fz = dist_n(C)\n",
    "plt.plot(Fx['X'],Fx['Fx'])\n",
    "plt.plot(Fy['X'],Fy['Fx'])\n",
    "plt.plot(Fz['X'],Fz['Fx'])"
   ]
  }
 ],
 "metadata": {
  "kernelspec": {
   "display_name": "Python 3",
   "language": "python",
   "name": "python3"
  },
  "language_info": {
   "codemirror_mode": {
    "name": "ipython",
    "version": 3
   },
   "file_extension": ".py",
   "mimetype": "text/x-python",
   "name": "python",
   "nbconvert_exporter": "python",
   "pygments_lexer": "ipython3",
   "version": "3.8.3"
  }
 },
 "nbformat": 4,
 "nbformat_minor": 4
}
