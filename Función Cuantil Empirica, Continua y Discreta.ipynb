{
 "cells": [
  {
   "cell_type": "code",
   "execution_count": 176,
   "metadata": {},
   "outputs": [],
   "source": [
    "def Cuantil_Empirica(lista,p):\n",
    "    datos = lista\n",
    "    datos.sort()\n",
    "    dominio = []\n",
    "    [dominio.append(x) for x in datos if x not in dominio]\n",
    "    dominio.sort()\n",
    "    n = len(datos)\n",
    "    num_terminos = 0\n",
    "    P = []\n",
    "    for i in range(len(dominio)):\n",
    "        if i < len(dominio) - 1:\n",
    "            for j in range(len(datos)): \n",
    "                if (dominio[i] <= datos[j]) and (datos[j] < dominio[i+1]):\n",
    "                    num_terminos += 1\n",
    "                    probabilidad = num_terminos/n\n",
    "            if probabilidad == p or probabilidad>p:\n",
    "                acumulado = dominio[i]\n",
    "                break\n",
    "        \n",
    "        else:\n",
    "            continue\n",
    "        \n",
    "    return acumulado\n",
    "        "
   ]
  },
  {
   "cell_type": "code",
   "execution_count": 177,
   "metadata": {},
   "outputs": [
    {
     "data": {
      "text/plain": [
       "8"
      ]
     },
     "execution_count": 177,
     "metadata": {},
     "output_type": "execute_result"
    }
   ],
   "source": [
    "Cuantil_Empirica([0,0,0,3,5,5,6,8,8,8,9],0.8)"
   ]
  },
  {
   "cell_type": "code",
   "execution_count": 178,
   "metadata": {},
   "outputs": [
    {
     "data": {
      "text/plain": [
       "10.398092532307617"
      ]
     },
     "execution_count": 178,
     "metadata": {},
     "output_type": "execute_result"
    }
   ],
   "source": [
    "lista = list(np.random.normal(10,0.5,1000))\n",
    "Cuantil_Empirica(lista,0.8)"
   ]
  },
  {
   "cell_type": "code",
   "execution_count": 3,
   "metadata": {},
   "outputs": [],
   "source": [
    "from scipy import stats\n",
    "from scipy.stats import norm\n",
    "def Distribucion_Continua(distribucion):\n",
    "    import numpy as np \n",
    "    x_1 = np.linspace(distribucion.ppf(0.01),\n",
    "                  distribucion.ppf(0.99), 100)\n",
    "    fda_normal = distribucion.cdf(x_1) # Función de Distribución Acumulada\n",
    "    plt.plot(x_1, fda_normal, label='F(x) continua')\n",
    "    plt.title('Función de Distribución Acumulada')\n",
    "    plt.ylabel('F(x)')\n",
    "    plt.xlabel('x')\n",
    "    plt.legend(loc=4)\n",
    "    plt.show()\n"
   ]
  },
  {
   "cell_type": "code",
   "execution_count": 182,
   "metadata": {},
   "outputs": [
    {
     "data": {
      "image/png": "[encoded data removed]",
      "text/plain": [
       "<Figure size 432x288 with 1 Axes>"
      ]
     },
     "metadata": {
      "needs_background": "light"
     },
     "output_type": "display_data"
    }
   ],
   "source": [
    "Distribucion_Continua(stats.lognorm(0.6))"
   ]
  },
  {
   "cell_type": "code",
   "execution_count": 1,
   "metadata": {},
   "outputs": [],
   "source": [
    "def Cuantil_Distribucion_Continua(distribucion,p):\n",
    "    import numpy as np \n",
    "    x_1 = np.linspace(distribucion.ppf(0.01),\n",
    "                  distribucion.ppf(0.99), 100)\n",
    "    fda_normal = distribucion.cdf(x_1) # Función de Distribución Acumulada\n",
    "    \n",
    "    for i in range(len(fda_normal)):\n",
    "        if fda_normal[i] == p or fda_normal[i]>p:\n",
    "            x_p = x_1[i]\n",
    "            break\n",
    "        else:\n",
    "            continue\n",
    "        \n",
    "    return x_p\n"
   ]
  },
  {
   "cell_type": "code",
   "execution_count": 4,
   "metadata": {},
   "outputs": [
    {
     "data": {
      "text/plain": [
       "9.013064538285704"
      ]
     },
     "execution_count": 4,
     "metadata": {},
     "output_type": "execute_result"
    }
   ],
   "source": [
    "Cuantil_Distribucion_Continua(stats.norm(10,1.2),0.2)"
   ]
  },
  {
   "cell_type": "code",
   "execution_count": 63,
   "metadata": {},
   "outputs": [
    {
     "data": {
      "text/plain": [
       "4.038239074984813"
      ]
     },
     "execution_count": 63,
     "metadata": {},
     "output_type": "execute_result"
    }
   ],
   "source": [
    "Cuantil_Distribucion_Continua(stats.lognorm(0.6),0.2)"
   ]
  },
  {
   "cell_type": "code",
   "execution_count": 143,
   "metadata": {},
   "outputs": [],
   "source": [
    "from scipy import stats\n",
    "from scipy.stats import norm\n",
    "def Distribucion_Discreta(distribucion1):\n",
    "    import numpy as np\n",
    "    discreta1 = distribucion1.ppf(0.01)\n",
    "    discreta2 = distribucion1.ppf(0.99)\n",
    "    x_1 =  np.arange(discreta1,discreta2)\n",
    "    fmp = distribucion1.cdf(x_1) # Función de Distribución\n",
    "    \n",
    "    \n",
    "    \n",
    "    plt.plot(x_1, fmp, '--', label='F(x) discreta')\n",
    "    plt.title('Función de Distribución Acumulada')\n",
    "    plt.ylabel('F(x)')\n",
    "    plt.xlabel('x')\n",
    "    plt.legend(loc=4)\n",
    "    plt.show()"
   ]
  },
  {
   "cell_type": "code",
   "execution_count": 144,
   "metadata": {},
   "outputs": [
    {
     "data": {
      "image/png": "[encoded data removed]",
      "text/plain": [
       "<Figure size 432x288 with 1 Axes>"
      ]
     },
     "metadata": {
      "needs_background": "light"
     },
     "output_type": "display_data"
    }
   ],
   "source": [
    "Distribucion_Discreta(stats.binom(10,0.3))"
   ]
  },
  {
   "cell_type": "code",
   "execution_count": 169,
   "metadata": {},
   "outputs": [],
   "source": [
    "def Cuantil_Distribucion_Discreta(distribucion1,p):\n",
    "    import numpy as np \n",
    "    discreta1 = distribucion1.ppf(0.01)\n",
    "    discreta2 = distribucion1.ppf(0.99)\n",
    "    x_1 =  np.arange(discreta1,discreta2)\n",
    "    fmp = distribucion1.cdf(x_1) # Función de Distribucion\n",
    "    for i in range(len(fmp)):\n",
    "        if fmp[i] == p or fmp[i]>p:\n",
    "            cuantil = x_1[i]\n",
    "            break\n",
    "            \n",
    "    return cuantil \n",
    "    \n",
    "    \n",
    "    "
   ]
  },
  {
   "cell_type": "code",
   "execution_count": 175,
   "metadata": {},
   "outputs": [
    {
     "data": {
      "text/plain": [
       "3.0"
      ]
     },
     "execution_count": 175,
     "metadata": {},
     "output_type": "execute_result"
    }
   ],
   "source": [
    "Cuantil_Distribucion_Discreta(stats.binom(10,0.3),0.5)"
   ]
  }
 ],
 "metadata": {
  "kernelspec": {
   "display_name": "Python 3",
   "language": "python",
   "name": "python3"
  },
  "language_info": {
   "codemirror_mode": {
    "name": "ipython",
    "version": 3
   },
   "file_extension": ".py",
   "mimetype": "text/x-python",
   "name": "python",
   "nbconvert_exporter": "python",
   "pygments_lexer": "ipython3",
   "version": "3.8.3"
  }
 },
 "nbformat": 4,
 "nbformat_minor": 4
}
