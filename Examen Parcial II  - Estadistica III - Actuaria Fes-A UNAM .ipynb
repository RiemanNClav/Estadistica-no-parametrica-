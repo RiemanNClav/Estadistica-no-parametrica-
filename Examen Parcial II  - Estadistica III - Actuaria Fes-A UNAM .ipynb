{
 "cells": [
  {
   "cell_type": "code",
   "execution_count": 82,
   "metadata": {},
   "outputs": [],
   "source": [
    "import pandas as pd \n",
    "datos = pd.read_csv(\"C:/Users/URIEL/Documents/DATOS (CSV,XML,JSON,ETC)/datos.csv\")"
   ]
  },
  {
   "cell_type": "code",
   "execution_count": null,
   "metadata": {},
   "outputs": [],
   "source": [
    "#Ejercicio 7: \n",
    "#Dado el archivo datos.xlsx encuentra lo siguiente:\n",
    "#La Fn(x) y escribela explicitamente.\n",
    "#La grafica de Fn(x).\n",
    "#En caso de usar el codigo que se dejo en las tareas anexalo, en caso contrario agrega tus procedimentos"
   ]
  },
  {
   "cell_type": "code",
   "execution_count": 13,
   "metadata": {},
   "outputs": [],
   "source": [
    "def Funcion_Empirica(data):\n",
    "    import numpy as np\n",
    "    datos = list(data)\n",
    " \n",
    "    import matplotlib.pyplot as plt\n",
    "    dominio = []\n",
    "    [dominio.append(x) for x in datos if x not in dominio]\n",
    "    dominio.sort()\n",
    "    n = len(datos)\n",
    "    num_terminos = 0\n",
    "    P = []\n",
    "    for i in range(len(dominio)):\n",
    "        if i < len(dominio) - 1:\n",
    "            for j in range(len(datos)): \n",
    "                if (dominio[i] <= datos[j]) and (datos[j] < dominio[i+1]):\n",
    "                    num_terminos += 1\n",
    "        \n",
    "        else:\n",
    "            continue\n",
    "        \n",
    "    \n",
    "        probabilidad = num_terminos/n\n",
    "        P.append(probabilidad)\n",
    "    \n",
    "    P.append(1)\n",
    "    P.sort()\n",
    "\n",
    "    for i in range(len(dominio)):\n",
    "        if i < len(dominio) - 1:\n",
    "            x = np.linspace(dominio[i],dominio[i+1],100)\n",
    "            y = np.linspace(P[i],P[i],100)\n",
    "            plt.plot(x,y)\n",
    "    \n",
    "        elif i == len(dominio) - 1:\n",
    "            x = np.linspace(dominio[i],dominio[i]+1,100)\n",
    "            y = np.linspace(P[i],P[i],100)\n",
    "            plt.plot(x,y)\n",
    "        \n",
    "    \n",
    "    x = np.linspace(dominio[0]-1,dominio[0],100)\n",
    "    y = np.linspace(0,0,100)  \n",
    "    plt.plot(x,y)\n",
    "\n",
    "    plt.ylabel(\"F(x)\")\n",
    "    plt.xlabel(\"x\")\n",
    "    plt.title(\"Funcion de Distribución Empírica\")\n",
    "    plt.show()"
   ]
  },
  {
   "cell_type": "code",
   "execution_count": 80,
   "metadata": {},
   "outputs": [],
   "source": [
    "\n",
    "def Fn(data):\n",
    "    datos = list(data)\n",
    "    dominio = []\n",
    "    [dominio.append(x) for x in datos if x not in dominio]\n",
    "    dominio.sort()\n",
    "    n = len(datos)\n",
    "    num_terminos = 0\n",
    "    P = []\n",
    "    for i in range(len(dominio)):\n",
    "        if i < len(dominio) - 1:\n",
    "            for j in range(len(datos)): \n",
    "                if (dominio[i] <= datos[j]) and (datos[j] < dominio[i+1]):\n",
    "                    num_terminos += 1\n",
    "        \n",
    "        else:\n",
    "            continue\n",
    "        \n",
    "    \n",
    "        probabilidad = num_terminos/n\n",
    "        P.append(probabilidad)\n",
    "    \n",
    "    P.append(1)\n",
    "    P.sort()\n",
    "\n",
    "    Fn = {}\n",
    "    Fn[\"x < {}\".format(dominio[0])] = 0\n",
    "    for i in range(len(dominio)):\n",
    "        if i < len(dominio)-1:\n",
    "            Fn[\"{} <= x < {}\".format(dominio[i],dominio[i+1])] = P[i]\n",
    "        else:\n",
    "            Fn[\"x > {}\".format(dominio[len(dominio)-1])] = 1\n",
    "    return Fn"
   ]
  },
  {
   "cell_type": "code",
   "execution_count": 76,
   "metadata": {},
   "outputs": [
    {
     "data": {
      "text/html": [
       "<div>\n",
       "<style scoped>\n",
       "    .dataframe tbody tr th:only-of-type {\n",
       "        vertical-align: middle;\n",
       "    }\n",
       "\n",
       "    .dataframe tbody tr th {\n",
       "        vertical-align: top;\n",
       "    }\n",
       "\n",
       "    .dataframe thead th {\n",
       "        text-align: right;\n",
       "    }\n",
       "</style>\n",
       "<table border=\"1\" class=\"dataframe\">\n",
       "  <thead>\n",
       "    <tr style=\"text-align: right;\">\n",
       "      <th></th>\n",
       "      <th>muestra</th>\n",
       "    </tr>\n",
       "  </thead>\n",
       "  <tbody>\n",
       "    <tr>\n",
       "      <th>0</th>\n",
       "      <td>1</td>\n",
       "    </tr>\n",
       "    <tr>\n",
       "      <th>1</th>\n",
       "      <td>3</td>\n",
       "    </tr>\n",
       "    <tr>\n",
       "      <th>2</th>\n",
       "      <td>4</td>\n",
       "    </tr>\n",
       "    <tr>\n",
       "      <th>3</th>\n",
       "      <td>4</td>\n",
       "    </tr>\n",
       "    <tr>\n",
       "      <th>4</th>\n",
       "      <td>8</td>\n",
       "    </tr>\n",
       "  </tbody>\n",
       "</table>\n",
       "</div>"
      ],
      "text/plain": [
       "   muestra\n",
       "0        1\n",
       "1        3\n",
       "2        4\n",
       "3        4\n",
       "4        8"
      ]
     },
     "execution_count": 76,
     "metadata": {},
     "output_type": "execute_result"
    }
   ],
   "source": [
    "datos.head(5)"
   ]
  },
  {
   "cell_type": "code",
   "execution_count": 81,
   "metadata": {},
   "outputs": [
    {
     "data": {
      "text/plain": [
       "{'x < 1': 0,\n",
       " '1 <= x < 2': 0.05,\n",
       " '2 <= x < 3': 0.175,\n",
       " '3 <= x < 4': 0.4,\n",
       " '4 <= x < 5': 0.625,\n",
       " '5 <= x < 6': 0.7,\n",
       " '6 <= x < 8': 0.875,\n",
       " 'x > 8': 1}"
      ]
     },
     "execution_count": 81,
     "metadata": {},
     "output_type": "execute_result"
    }
   ],
   "source": [
    "Fn(datos.iloc[:,0].values)"
   ]
  },
  {
   "cell_type": "code",
   "execution_count": 79,
   "metadata": {},
   "outputs": [
    {
     "data": {
      "image/png": "[encoded data removed]",
      "text/plain": [
       "<Figure size 432x288 with 1 Axes>"
      ]
     },
     "metadata": {
      "needs_background": "light"
     },
     "output_type": "display_data"
    }
   ],
   "source": [
    "Funcion_Empirica(datos.iloc[:,0].values)"
   ]
  },
  {
   "cell_type": "code",
   "execution_count": null,
   "metadata": {},
   "outputs": [],
   "source": [
    "#Ejercicio 8: Dado el archivo datos.xlsx encuentra lo siguiente:\n",
    "#Prueba las siguientes hipotesis:\n",
    "#La mediana es al menos 4 .\n",
    "#El percentil .8 es a lo mas 6."
   ]
  },
  {
   "cell_type": "code",
   "execution_count": 83,
   "metadata": {},
   "outputs": [],
   "source": [
    "def Cuantil_Empirica(lista,p):\n",
    "    datos = lista\n",
    "    datos.sort()\n",
    "    dominio = []\n",
    "    [dominio.append(x) for x in datos if x not in dominio]\n",
    "    dominio.sort()\n",
    "    n = len(datos)\n",
    "    num_terminos = 0\n",
    "    P = []\n",
    "    for i in range(len(dominio)):\n",
    "        if i < len(dominio) - 1:\n",
    "            for j in range(len(datos)): \n",
    "                if (dominio[i] <= datos[j]) and (datos[j] < dominio[i+1]):\n",
    "                    num_terminos += 1\n",
    "                    probabilidad = num_terminos/n\n",
    "            if probabilidad == p or probabilidad>p:\n",
    "                acumulado = dominio[i]\n",
    "                break\n",
    "        \n",
    "        else:\n",
    "            continue\n",
    "        \n",
    "    return acumulado"
   ]
  },
  {
   "cell_type": "code",
   "execution_count": 87,
   "metadata": {},
   "outputs": [
    {
     "data": {
      "text/plain": [
       "6"
      ]
     },
     "execution_count": 87,
     "metadata": {},
     "output_type": "execute_result"
    }
   ],
   "source": [
    "Cuantil_Empirica(datos.iloc[:,0].values.tolist(),.8)"
   ]
  },
  {
   "cell_type": "code",
   "execution_count": 88,
   "metadata": {},
   "outputs": [
    {
     "data": {
      "text/plain": [
       "4"
      ]
     },
     "execution_count": 88,
     "metadata": {},
     "output_type": "execute_result"
    }
   ],
   "source": [
    "#Mediana \n",
    "Cuantil_Empirica(datos.iloc[:,0].values.tolist(),.5)"
   ]
  },
  {
   "cell_type": "code",
   "execution_count": 2,
   "metadata": {},
   "outputs": [],
   "source": [
    "#Ejercicio 9: Supon que tienes muestras de tamano 40:\n",
    "#se plantea el siguiente intervalo (X(15), X(30)) para la mediana ¿cual es su nivel de confianza? .\n",
    "#se plantea el siguiente intervalo (X(15), X(38)) para la tercer cuartil ¿cu ́al es su nivel de confianza? .\n",
    "#se plantea el siguiente intervalo (X(2), X(25)) para el primer cuartil ¿cu ́al es su nivel de confianza?"
   ]
  },
  {
   "cell_type": "code",
   "execution_count": 1,
   "metadata": {},
   "outputs": [],
   "source": [
    "def Combinatoria(x,y):\n",
    "    import math\n",
    "    combinatoria = math.factorial(x)/(math.factorial(y) * math.factorial(x-y))\n",
    "    \n",
    "    return int(combinatoria)"
   ]
  },
  {
   "cell_type": "code",
   "execution_count": 35,
   "metadata": {},
   "outputs": [],
   "source": [
    "#P(X(k),X(s)) = confianza\n",
    "from scipy import stats\n",
    "def niv_confianza(xp,distribucion,k,s):\n",
    "    suma = 0\n",
    "    i=k\n",
    "    while i<=s:\n",
    "        suma = suma + (Combinatoria(40,i)*((distribucion.cdf(xp))**i)*((1-distribucion.cdf(xp))**(40-i)))\n",
    "        i +=1\n",
    "            \n",
    "    return suma\n",
    "        \n",
    "    "
   ]
  },
  {
   "cell_type": "code",
   "execution_count": 36,
   "metadata": {},
   "outputs": [],
   "source": [
    "def Cuantil_Distribucion_Continua(distribucion,p):\n",
    "    import numpy as np \n",
    "    x_1 = np.linspace(distribucion.ppf(0.01),\n",
    "                  distribucion.ppf(0.99), 100)\n",
    "    fda_normal = distribucion.cdf(x_1) # Función de Distribución Acumulada\n",
    "    \n",
    "    for i in range(len(fda_normal)):\n",
    "        if fda_normal[i] == p or fda_normal[i]>p:\n",
    "            x_p = x_1[i]\n",
    "            break\n",
    "        else:\n",
    "            continue\n",
    "        \n",
    "    return x_p"
   ]
  },
  {
   "cell_type": "code",
   "execution_count": null,
   "metadata": {},
   "outputs": [],
   "source": [
    "#se plantea el siguiente intervalo (X(15), X(30)) para la mediana ¿cual es su nivel de confianza? ."
   ]
  },
  {
   "cell_type": "code",
   "execution_count": 37,
   "metadata": {},
   "outputs": [],
   "source": [
    "mediana = Cuantil_Distribucion_Continua(stats.norm(10,1.2),0.5) "
   ]
  },
  {
   "cell_type": "code",
   "execution_count": 38,
   "metadata": {},
   "outputs": [
    {
     "data": {
      "text/plain": [
       "0.9684146615099787"
      ]
     },
     "execution_count": 38,
     "metadata": {},
     "output_type": "execute_result"
    }
   ],
   "source": [
    " niv_confianza(mediana,stats.norm(10,1.2),15,30)"
   ]
  },
  {
   "cell_type": "code",
   "execution_count": 39,
   "metadata": {},
   "outputs": [],
   "source": [
    "#se plantea el siguiente intervalo (X(15), X(38)) para la tercer cuartil ¿cu ́al es su nivel de confianza? \n",
    "tercer_cuartil = Cuantil_Distribucion_Continua(stats.norm(10,1.2),0.75)"
   ]
  },
  {
   "cell_type": "code",
   "execution_count": 40,
   "metadata": {},
   "outputs": [
    {
     "data": {
      "text/plain": [
       "0.9998395464602865"
      ]
     },
     "execution_count": 40,
     "metadata": {},
     "output_type": "execute_result"
    }
   ],
   "source": [
    "niv_confianza(tercer_cuartil,stats.norm(10,1.2),15,38)"
   ]
  },
  {
   "cell_type": "code",
   "execution_count": 42,
   "metadata": {},
   "outputs": [],
   "source": [
    "#se plantea el siguiente intervalo (X(2), X(25)) para el primer cuartil ¿cu ́al es su nivel de confianza?\n",
    "primer_cuartil = Cuantil_Distribucion_Continua(stats.norm(10,1.2),0.25)"
   ]
  },
  {
   "cell_type": "code",
   "execution_count": 43,
   "metadata": {},
   "outputs": [
    {
     "data": {
      "text/plain": [
       "0.9999229389855361"
      ]
     },
     "execution_count": 43,
     "metadata": {},
     "output_type": "execute_result"
    }
   ],
   "source": [
    "niv_confianza(primer_cuartil,stats.norm(10,1.2),2,25)"
   ]
  },
  {
   "cell_type": "code",
   "execution_count": 44,
   "metadata": {},
   "outputs": [],
   "source": [
    "def Cuantil_Distribucion_Discreta(distribucion1,p):\n",
    "    import numpy as np \n",
    "    discreta1 = distribucion1.ppf(0.01)\n",
    "    discreta2 = distribucion1.ppf(0.99)\n",
    "    x_1 =  np.arange(discreta1,discreta2)\n",
    "    fmp = distribucion1.cdf(x_1) # Función de Distribucion\n",
    "    for i in range(len(fmp)):\n",
    "        if fmp[i] == p or fmp[i]>p:\n",
    "            cuantil = x_1[i]\n",
    "            break\n",
    "            \n",
    "    return cuantil"
   ]
  },
  {
   "cell_type": "code",
   "execution_count": 46,
   "metadata": {},
   "outputs": [],
   "source": [
    "#se plantea el siguiente intervalo (X(15), X(30)) para la mediana ¿cual es su nivel de confianza? ."
   ]
  },
  {
   "cell_type": "code",
   "execution_count": 47,
   "metadata": {},
   "outputs": [],
   "source": [
    "mediana = Cuantil_Distribucion_Discreta(stats.binom(10,0.3),0.5)"
   ]
  },
  {
   "cell_type": "code",
   "execution_count": 52,
   "metadata": {},
   "outputs": [
    {
     "data": {
      "text/plain": [
       "0.9360873851482628"
      ]
     },
     "execution_count": 52,
     "metadata": {},
     "output_type": "execute_result"
    }
   ],
   "source": [
    "niv_confianza(mediana,stats.binom(10,0.3),15,30)"
   ]
  }
 ],
 "metadata": {
  "kernelspec": {
   "display_name": "Python 3",
   "language": "python",
   "name": "python3"
  },
  "language_info": {
   "codemirror_mode": {
    "name": "ipython",
    "version": 3
   },
   "file_extension": ".py",
   "mimetype": "text/x-python",
   "name": "python",
   "nbconvert_exporter": "python",
   "pygments_lexer": "ipython3",
   "version": "3.8.3"
  }
 },
 "nbformat": 4,
 "nbformat_minor": 4
}
